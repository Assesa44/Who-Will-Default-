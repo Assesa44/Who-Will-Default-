{
 "cells": [
  {
   "cell_type": "markdown",
   "id": "9e7c272e",
   "metadata": {},
   "source": [
    "# **Loan Default Prediction**: *Preprocessing & Baseline Modeling*\n",
    "In this notebook we are carrying out the preprocessing steps, as well as setting up the baseline model.\n",
    "\n",
    "As this is a classification project, we are preprocessing data tailoring it to the specific algorithm we are using at a specific time. Before splitting the data, we are ensuring it is in an optimal condition for modeling."
   ]
  },
  {
   "cell_type": "code",
   "execution_count": 19,
   "id": "3c0222a5",
   "metadata": {},
   "outputs": [],
   "source": [
    "# Import relevant dependencies.\n",
    "import pandas as pd\n",
    "import matplotlib.pyplot as plt\n",
    "import seaborn as sns\n",
    "from sklearn.model_selection import train_test_split, RandomizedSearchCV\n",
    "from imblearn.over_sampling import SMOTE\n",
    "from sklearn.preprocessing import OneHotEncoder, StandardScaler\n",
    "from sklearn.compose import ColumnTransformer\n",
    "from sklearn.linear_model import LogisticRegression\n",
    "from sklearn.metrics import confusion_matrix, ConfusionMatrixDisplay, classification_report, roc_curve, roc_auc_score"
   ]
  },
  {
   "cell_type": "code",
   "execution_count": 2,
   "id": "9fadbaf5",
   "metadata": {},
   "outputs": [
    {
     "data": {
      "text/html": [
       "<div>\n",
       "<style scoped>\n",
       "    .dataframe tbody tr th:only-of-type {\n",
       "        vertical-align: middle;\n",
       "    }\n",
       "\n",
       "    .dataframe tbody tr th {\n",
       "        vertical-align: top;\n",
       "    }\n",
       "\n",
       "    .dataframe thead th {\n",
       "        text-align: right;\n",
       "    }\n",
       "</style>\n",
       "<table border=\"1\" class=\"dataframe\">\n",
       "  <thead>\n",
       "    <tr style=\"text-align: right;\">\n",
       "      <th></th>\n",
       "      <th>LoanID</th>\n",
       "      <th>Age</th>\n",
       "      <th>Income</th>\n",
       "      <th>LoanAmount</th>\n",
       "      <th>CreditScore</th>\n",
       "      <th>MonthsEmployed</th>\n",
       "      <th>NumCreditLines</th>\n",
       "      <th>InterestRate</th>\n",
       "      <th>LoanTerm</th>\n",
       "      <th>DTIRatio</th>\n",
       "      <th>Education</th>\n",
       "      <th>EmploymentType</th>\n",
       "      <th>MaritalStatus</th>\n",
       "      <th>HasMortgage</th>\n",
       "      <th>HasDependents</th>\n",
       "      <th>LoanPurpose</th>\n",
       "      <th>HasCoSigner</th>\n",
       "      <th>Default</th>\n",
       "    </tr>\n",
       "  </thead>\n",
       "  <tbody>\n",
       "    <tr>\n",
       "      <th>0</th>\n",
       "      <td>I38PQUQS96</td>\n",
       "      <td>56</td>\n",
       "      <td>85994</td>\n",
       "      <td>50587</td>\n",
       "      <td>520</td>\n",
       "      <td>80</td>\n",
       "      <td>4</td>\n",
       "      <td>15.23</td>\n",
       "      <td>36</td>\n",
       "      <td>0.44</td>\n",
       "      <td>Bachelor's</td>\n",
       "      <td>Full-time</td>\n",
       "      <td>Divorced</td>\n",
       "      <td>Yes</td>\n",
       "      <td>Yes</td>\n",
       "      <td>Other</td>\n",
       "      <td>Yes</td>\n",
       "      <td>0</td>\n",
       "    </tr>\n",
       "    <tr>\n",
       "      <th>1</th>\n",
       "      <td>HPSK72WA7R</td>\n",
       "      <td>69</td>\n",
       "      <td>50432</td>\n",
       "      <td>124440</td>\n",
       "      <td>458</td>\n",
       "      <td>15</td>\n",
       "      <td>1</td>\n",
       "      <td>4.81</td>\n",
       "      <td>60</td>\n",
       "      <td>0.68</td>\n",
       "      <td>Master's</td>\n",
       "      <td>Full-time</td>\n",
       "      <td>Married</td>\n",
       "      <td>No</td>\n",
       "      <td>No</td>\n",
       "      <td>Other</td>\n",
       "      <td>Yes</td>\n",
       "      <td>0</td>\n",
       "    </tr>\n",
       "    <tr>\n",
       "      <th>2</th>\n",
       "      <td>C1OZ6DPJ8Y</td>\n",
       "      <td>46</td>\n",
       "      <td>84208</td>\n",
       "      <td>129188</td>\n",
       "      <td>451</td>\n",
       "      <td>26</td>\n",
       "      <td>3</td>\n",
       "      <td>21.17</td>\n",
       "      <td>24</td>\n",
       "      <td>0.31</td>\n",
       "      <td>Master's</td>\n",
       "      <td>Unemployed</td>\n",
       "      <td>Divorced</td>\n",
       "      <td>Yes</td>\n",
       "      <td>Yes</td>\n",
       "      <td>Auto</td>\n",
       "      <td>No</td>\n",
       "      <td>1</td>\n",
       "    </tr>\n",
       "    <tr>\n",
       "      <th>3</th>\n",
       "      <td>V2KKSFM3UN</td>\n",
       "      <td>32</td>\n",
       "      <td>31713</td>\n",
       "      <td>44799</td>\n",
       "      <td>743</td>\n",
       "      <td>0</td>\n",
       "      <td>3</td>\n",
       "      <td>7.07</td>\n",
       "      <td>24</td>\n",
       "      <td>0.23</td>\n",
       "      <td>High School</td>\n",
       "      <td>Full-time</td>\n",
       "      <td>Married</td>\n",
       "      <td>No</td>\n",
       "      <td>No</td>\n",
       "      <td>Business</td>\n",
       "      <td>No</td>\n",
       "      <td>0</td>\n",
       "    </tr>\n",
       "    <tr>\n",
       "      <th>4</th>\n",
       "      <td>EY08JDHTZP</td>\n",
       "      <td>60</td>\n",
       "      <td>20437</td>\n",
       "      <td>9139</td>\n",
       "      <td>633</td>\n",
       "      <td>8</td>\n",
       "      <td>4</td>\n",
       "      <td>6.51</td>\n",
       "      <td>48</td>\n",
       "      <td>0.73</td>\n",
       "      <td>Bachelor's</td>\n",
       "      <td>Unemployed</td>\n",
       "      <td>Divorced</td>\n",
       "      <td>No</td>\n",
       "      <td>Yes</td>\n",
       "      <td>Auto</td>\n",
       "      <td>No</td>\n",
       "      <td>0</td>\n",
       "    </tr>\n",
       "  </tbody>\n",
       "</table>\n",
       "</div>"
      ],
      "text/plain": [
       "       LoanID  Age  Income  LoanAmount  CreditScore  MonthsEmployed  \\\n",
       "0  I38PQUQS96   56   85994       50587          520              80   \n",
       "1  HPSK72WA7R   69   50432      124440          458              15   \n",
       "2  C1OZ6DPJ8Y   46   84208      129188          451              26   \n",
       "3  V2KKSFM3UN   32   31713       44799          743               0   \n",
       "4  EY08JDHTZP   60   20437        9139          633               8   \n",
       "\n",
       "   NumCreditLines  InterestRate  LoanTerm  DTIRatio    Education  \\\n",
       "0               4         15.23        36      0.44   Bachelor's   \n",
       "1               1          4.81        60      0.68     Master's   \n",
       "2               3         21.17        24      0.31     Master's   \n",
       "3               3          7.07        24      0.23  High School   \n",
       "4               4          6.51        48      0.73   Bachelor's   \n",
       "\n",
       "  EmploymentType MaritalStatus HasMortgage HasDependents LoanPurpose  \\\n",
       "0      Full-time      Divorced         Yes           Yes       Other   \n",
       "1      Full-time       Married          No            No       Other   \n",
       "2     Unemployed      Divorced         Yes           Yes        Auto   \n",
       "3      Full-time       Married          No            No    Business   \n",
       "4     Unemployed      Divorced          No           Yes        Auto   \n",
       "\n",
       "  HasCoSigner  Default  \n",
       "0         Yes        0  \n",
       "1         Yes        0  \n",
       "2          No        1  \n",
       "3          No        0  \n",
       "4          No        0  "
      ]
     },
     "execution_count": 2,
     "metadata": {},
     "output_type": "execute_result"
    }
   ],
   "source": [
    "# Load dataset for preprocessing\n",
    "loans_info = pd.read_csv(\"../Data/RawData/Loan_default.csv\")  \n",
    "\n",
    "# Preview data\n",
    "loans_info.head()"
   ]
  },
  {
   "cell_type": "markdown",
   "id": "aacd3d6e",
   "metadata": {},
   "source": [
    "In the next cell, we are dropping the ID column, because it is irrelevant."
   ]
  },
  {
   "cell_type": "code",
   "execution_count": 3,
   "id": "84e0045b",
   "metadata": {},
   "outputs": [],
   "source": [
    "# Drop irrelevant columns.\n",
    "loans_info = loans_info.drop(columns= ['LoanID'])"
   ]
  },
  {
   "cell_type": "markdown",
   "id": "d50414d9",
   "metadata": {},
   "source": [
    "To ensure that we do not have any categorical/standardization issues we are checking the values in each categorical column."
   ]
  },
  {
   "cell_type": "code",
   "execution_count": 4,
   "id": "6312f16b",
   "metadata": {},
   "outputs": [
    {
     "name": "stdout",
     "output_type": "stream",
     "text": [
      "\n",
      "--- EDUCATION ---\n",
      "Bachelor's     64366\n",
      "High School    63903\n",
      "Master's       63541\n",
      "PhD            63537\n",
      "Name: Education, dtype: int64\n",
      "\n",
      "--- EMPLOYMENTTYPE ---\n",
      "Part-time        64161\n",
      "Unemployed       63824\n",
      "Self-employed    63706\n",
      "Full-time        63656\n",
      "Name: EmploymentType, dtype: int64\n",
      "\n",
      "--- MARITALSTATUS ---\n",
      "Married     85302\n",
      "Divorced    85033\n",
      "Single      85012\n",
      "Name: MaritalStatus, dtype: int64\n",
      "\n",
      "--- HASMORTGAGE ---\n",
      "Yes    127677\n",
      "No     127670\n",
      "Name: HasMortgage, dtype: int64\n",
      "\n",
      "--- HASDEPENDENTS ---\n",
      "Yes    127742\n",
      "No     127605\n",
      "Name: HasDependents, dtype: int64\n",
      "\n",
      "--- LOANPURPOSE ---\n",
      "Business     51298\n",
      "Home         51286\n",
      "Education    51005\n",
      "Other        50914\n",
      "Auto         50844\n",
      "Name: LoanPurpose, dtype: int64\n",
      "\n",
      "--- HASCOSIGNER ---\n",
      "Yes    127701\n",
      "No     127646\n",
      "Name: HasCoSigner, dtype: int64\n"
     ]
    }
   ],
   "source": [
    "# View the most occuring records in categorical columns\n",
    "for col in loans_info.select_dtypes(include='object').columns:\n",
    "    print(f\"\\n--- {col.upper()} ---\")\n",
    "    print(loans_info[col].value_counts(dropna=False))"
   ]
  },
  {
   "cell_type": "code",
   "execution_count": 5,
   "id": "8461a18a",
   "metadata": {},
   "outputs": [],
   "source": [
    "# Save cleaned data to a new file\n",
    "loans_info.to_csv('../Data/CleanData/Cleaned_Loans_Data.csv', index= False)"
   ]
  },
  {
   "cell_type": "markdown",
   "id": "fcb78e16",
   "metadata": {},
   "source": [
    "## **Data Preprocessing**\n",
    "In this section, we are preparing our data for modeling, this will involve, splitting the data to training and testing datasets.\n",
    "\n",
    "- We are using sklearn's model selection function, `train-test-split` to split our data. This is an important for building reliable machine learning models as it allows us to train the model on one portion of the data and then assess its performance on a completely separate, unseen portion, which helps prevent overfitting and provides a realistic evaluation of how well the model generalizes to new data. "
   ]
  },
  {
   "cell_type": "code",
   "execution_count": 6,
   "id": "c1f7dc30",
   "metadata": {},
   "outputs": [],
   "source": [
    "# Assign predictors and target variable to their respective variables.\n",
    "X = loans_info.drop('Default', axis=1)\n",
    "y = loans_info['Default']\n",
    "\n",
    "# Split the dataset to train and test datasets.\n",
    "X_train, X_test, y_train, y_test = train_test_split(X, y, test_size=0.2, stratify=y, random_state=42)\n"
   ]
  },
  {
   "cell_type": "markdown",
   "id": "9f902221",
   "metadata": {},
   "source": [
    "## **Baseline Model**\n",
    "In this section we are training our baseline model, using the `Logistic Regression` algorithm.\n",
    "\n",
    "Logistic regression requires the data to be standardized and the categorical columns be one hot encoded. Before we begin modeling, we are preprocessing the data, tailoring it to logistic regression's needs, that is:\n",
    "- Standardizing the numerical columns.\n",
    "\n",
    "- One hot encoding te categorical columns."
   ]
  },
  {
   "cell_type": "code",
   "execution_count": 7,
   "id": "319b454b",
   "metadata": {},
   "outputs": [],
   "source": [
    "# Identify column types\n",
    "categorical_cols = X.select_dtypes(include='object').columns.tolist()\n",
    "numeric_cols = X.select_dtypes(include='number').columns.tolist()\n",
    "\n",
    "# Preprocessing\n",
    "preprocessor = ColumnTransformer(\n",
    "    transformers=[\n",
    "        ('num', StandardScaler(), numeric_cols),\n",
    "        ('cat', OneHotEncoder(handle_unknown='ignore'), categorical_cols)\n",
    "    ]\n",
    ")\n",
    "\n",
    "# Fit transform the training data\n",
    "X_train_processed = preprocessor.fit_transform(X_train)\n",
    "\n",
    "# Get new feature names \n",
    "# From numeric columns, they stay the same\n",
    "num_features = numeric_cols\n",
    "\n",
    "# From OneHotEncoder\n",
    "cat_features = preprocessor.named_transformers_['cat'].get_feature_names(categorical_cols)\n",
    "\n",
    "# Combine all new column names\n",
    "all_features = list(num_features) + list(cat_features)\n",
    "\n",
    "# Convert back to DataFrames\n",
    "X_train_df = pd.DataFrame(X_train_processed.toarray() if hasattr(X_train_processed, 'toarray') else X_train_processed,\n",
    "                          columns=all_features,\n",
    "                          index=X_train.index)"
   ]
  },
  {
   "cell_type": "code",
   "execution_count": 8,
   "id": "3c561273",
   "metadata": {},
   "outputs": [
    {
     "data": {
      "text/html": [
       "<div>\n",
       "<style scoped>\n",
       "    .dataframe tbody tr th:only-of-type {\n",
       "        vertical-align: middle;\n",
       "    }\n",
       "\n",
       "    .dataframe tbody tr th {\n",
       "        vertical-align: top;\n",
       "    }\n",
       "\n",
       "    .dataframe thead th {\n",
       "        text-align: right;\n",
       "    }\n",
       "</style>\n",
       "<table border=\"1\" class=\"dataframe\">\n",
       "  <thead>\n",
       "    <tr style=\"text-align: right;\">\n",
       "      <th></th>\n",
       "      <th>Age</th>\n",
       "      <th>Income</th>\n",
       "      <th>LoanAmount</th>\n",
       "      <th>CreditScore</th>\n",
       "      <th>MonthsEmployed</th>\n",
       "      <th>NumCreditLines</th>\n",
       "      <th>InterestRate</th>\n",
       "      <th>LoanTerm</th>\n",
       "      <th>DTIRatio</th>\n",
       "      <th>Education_Bachelor's</th>\n",
       "      <th>...</th>\n",
       "      <th>HasMortgage_Yes</th>\n",
       "      <th>HasDependents_No</th>\n",
       "      <th>HasDependents_Yes</th>\n",
       "      <th>LoanPurpose_Auto</th>\n",
       "      <th>LoanPurpose_Business</th>\n",
       "      <th>LoanPurpose_Education</th>\n",
       "      <th>LoanPurpose_Home</th>\n",
       "      <th>LoanPurpose_Other</th>\n",
       "      <th>HasCoSigner_No</th>\n",
       "      <th>HasCoSigner_Yes</th>\n",
       "    </tr>\n",
       "  </thead>\n",
       "  <tbody>\n",
       "    <tr>\n",
       "      <th>15826</th>\n",
       "      <td>0.099486</td>\n",
       "      <td>-1.167307</td>\n",
       "      <td>1.698627</td>\n",
       "      <td>0.312274</td>\n",
       "      <td>-1.170591</td>\n",
       "      <td>-0.449335</td>\n",
       "      <td>-1.335928</td>\n",
       "      <td>1.414459</td>\n",
       "      <td>1.512942</td>\n",
       "      <td>0.0</td>\n",
       "      <td>...</td>\n",
       "      <td>0.0</td>\n",
       "      <td>0.0</td>\n",
       "      <td>1.0</td>\n",
       "      <td>1.0</td>\n",
       "      <td>0.0</td>\n",
       "      <td>0.0</td>\n",
       "      <td>0.0</td>\n",
       "      <td>0.0</td>\n",
       "      <td>1.0</td>\n",
       "      <td>0.0</td>\n",
       "    </tr>\n",
       "    <tr>\n",
       "      <th>147371</th>\n",
       "      <td>0.299620</td>\n",
       "      <td>1.319747</td>\n",
       "      <td>-0.864170</td>\n",
       "      <td>-0.505800</td>\n",
       "      <td>1.714171</td>\n",
       "      <td>0.445947</td>\n",
       "      <td>0.185568</td>\n",
       "      <td>0.707489</td>\n",
       "      <td>-0.045473</td>\n",
       "      <td>0.0</td>\n",
       "      <td>...</td>\n",
       "      <td>1.0</td>\n",
       "      <td>0.0</td>\n",
       "      <td>1.0</td>\n",
       "      <td>0.0</td>\n",
       "      <td>0.0</td>\n",
       "      <td>0.0</td>\n",
       "      <td>0.0</td>\n",
       "      <td>1.0</td>\n",
       "      <td>0.0</td>\n",
       "      <td>1.0</td>\n",
       "    </tr>\n",
       "    <tr>\n",
       "      <th>178180</th>\n",
       "      <td>0.232908</td>\n",
       "      <td>0.453497</td>\n",
       "      <td>-1.700954</td>\n",
       "      <td>0.903803</td>\n",
       "      <td>1.396847</td>\n",
       "      <td>0.445947</td>\n",
       "      <td>-1.201856</td>\n",
       "      <td>-0.706451</td>\n",
       "      <td>1.123338</td>\n",
       "      <td>0.0</td>\n",
       "      <td>...</td>\n",
       "      <td>1.0</td>\n",
       "      <td>0.0</td>\n",
       "      <td>1.0</td>\n",
       "      <td>0.0</td>\n",
       "      <td>1.0</td>\n",
       "      <td>0.0</td>\n",
       "      <td>0.0</td>\n",
       "      <td>0.0</td>\n",
       "      <td>0.0</td>\n",
       "      <td>1.0</td>\n",
       "    </tr>\n",
       "    <tr>\n",
       "      <th>126915</th>\n",
       "      <td>-0.100649</td>\n",
       "      <td>-1.191966</td>\n",
       "      <td>-1.432895</td>\n",
       "      <td>-1.449730</td>\n",
       "      <td>-1.661000</td>\n",
       "      <td>0.445947</td>\n",
       "      <td>0.723364</td>\n",
       "      <td>0.000519</td>\n",
       "      <td>1.123338</td>\n",
       "      <td>1.0</td>\n",
       "      <td>...</td>\n",
       "      <td>0.0</td>\n",
       "      <td>0.0</td>\n",
       "      <td>1.0</td>\n",
       "      <td>0.0</td>\n",
       "      <td>0.0</td>\n",
       "      <td>1.0</td>\n",
       "      <td>0.0</td>\n",
       "      <td>0.0</td>\n",
       "      <td>1.0</td>\n",
       "      <td>0.0</td>\n",
       "    </tr>\n",
       "    <tr>\n",
       "      <th>163930</th>\n",
       "      <td>-1.568299</td>\n",
       "      <td>0.434508</td>\n",
       "      <td>1.707671</td>\n",
       "      <td>-1.613345</td>\n",
       "      <td>0.416028</td>\n",
       "      <td>0.445947</td>\n",
       "      <td>0.898110</td>\n",
       "      <td>1.414459</td>\n",
       "      <td>-0.218630</td>\n",
       "      <td>1.0</td>\n",
       "      <td>...</td>\n",
       "      <td>0.0</td>\n",
       "      <td>1.0</td>\n",
       "      <td>0.0</td>\n",
       "      <td>1.0</td>\n",
       "      <td>0.0</td>\n",
       "      <td>0.0</td>\n",
       "      <td>0.0</td>\n",
       "      <td>0.0</td>\n",
       "      <td>0.0</td>\n",
       "      <td>1.0</td>\n",
       "    </tr>\n",
       "  </tbody>\n",
       "</table>\n",
       "<p>5 rows × 31 columns</p>\n",
       "</div>"
      ],
      "text/plain": [
       "             Age    Income  LoanAmount  CreditScore  MonthsEmployed  \\\n",
       "15826   0.099486 -1.167307    1.698627     0.312274       -1.170591   \n",
       "147371  0.299620  1.319747   -0.864170    -0.505800        1.714171   \n",
       "178180  0.232908  0.453497   -1.700954     0.903803        1.396847   \n",
       "126915 -0.100649 -1.191966   -1.432895    -1.449730       -1.661000   \n",
       "163930 -1.568299  0.434508    1.707671    -1.613345        0.416028   \n",
       "\n",
       "        NumCreditLines  InterestRate  LoanTerm  DTIRatio  \\\n",
       "15826        -0.449335     -1.335928  1.414459  1.512942   \n",
       "147371        0.445947      0.185568  0.707489 -0.045473   \n",
       "178180        0.445947     -1.201856 -0.706451  1.123338   \n",
       "126915        0.445947      0.723364  0.000519  1.123338   \n",
       "163930        0.445947      0.898110  1.414459 -0.218630   \n",
       "\n",
       "        Education_Bachelor's  ...  HasMortgage_Yes  HasDependents_No  \\\n",
       "15826                    0.0  ...              0.0               0.0   \n",
       "147371                   0.0  ...              1.0               0.0   \n",
       "178180                   0.0  ...              1.0               0.0   \n",
       "126915                   1.0  ...              0.0               0.0   \n",
       "163930                   1.0  ...              0.0               1.0   \n",
       "\n",
       "        HasDependents_Yes  LoanPurpose_Auto  LoanPurpose_Business  \\\n",
       "15826                 1.0               1.0                   0.0   \n",
       "147371                1.0               0.0                   0.0   \n",
       "178180                1.0               0.0                   1.0   \n",
       "126915                1.0               0.0                   0.0   \n",
       "163930                0.0               1.0                   0.0   \n",
       "\n",
       "        LoanPurpose_Education  LoanPurpose_Home  LoanPurpose_Other  \\\n",
       "15826                     0.0               0.0                0.0   \n",
       "147371                    0.0               0.0                1.0   \n",
       "178180                    0.0               0.0                0.0   \n",
       "126915                    1.0               0.0                0.0   \n",
       "163930                    0.0               0.0                0.0   \n",
       "\n",
       "        HasCoSigner_No  HasCoSigner_Yes  \n",
       "15826              1.0              0.0  \n",
       "147371             0.0              1.0  \n",
       "178180             0.0              1.0  \n",
       "126915             1.0              0.0  \n",
       "163930             0.0              1.0  \n",
       "\n",
       "[5 rows x 31 columns]"
      ]
     },
     "execution_count": 8,
     "metadata": {},
     "output_type": "execute_result"
    }
   ],
   "source": [
    "# Preview the dataframe.\n",
    "X_train_df.head()"
   ]
  },
  {
   "cell_type": "markdown",
   "id": "6e4b19dd",
   "metadata": {},
   "source": [
    "### **Model 1: `LogisticRegression()` baseline model**\n",
    "Here we are using the `saga` solver, and a maximum iteration of 500 for our first model. We are also using a balanced class_weight, this is because, in our previous exploration, we found that there's a default rate of 11%, signaling that there is a class imbalance. The `balanced` class_weight is meant to tell the model to pay attention to both classes equally even though on is rarer."
   ]
  },
  {
   "cell_type": "code",
   "execution_count": 9,
   "id": "ff52c48d",
   "metadata": {},
   "outputs": [],
   "source": [
    "# Prepara data for training\n",
    "log_X = X_train_df.copy()\n",
    "log_y = y_train.copy()\n",
    "\n",
    "# Train and fit baseline model\n",
    "log_reg = LogisticRegression(solver= 'saga', max_iter= 500, class_weight= 'balanced').fit(log_X, log_y)\n",
    "\n",
    "# Predict y\n",
    "y_pred = log_reg.predict(log_X)"
   ]
  },
  {
   "cell_type": "markdown",
   "id": "786f5553",
   "metadata": {},
   "source": [
    "#### *Evaluation*\n",
    "For evaluation, we are using the classification report as well as the confusion matrix. The classification report is meant to help us evaluate our model on all metrics."
   ]
  },
  {
   "cell_type": "code",
   "execution_count": 10,
   "id": "a0d3db13",
   "metadata": {},
   "outputs": [
    {
     "name": "stdout",
     "output_type": "stream",
     "text": [
      "Baseline Model Evaluation:\n",
      "              precision    recall  f1-score   support\n",
      "\n",
      "     service       0.94      0.67      0.79    180555\n",
      "     default       0.22      0.69      0.33     23722\n",
      "\n",
      "    accuracy                           0.68    204277\n",
      "   macro avg       0.58      0.68      0.56    204277\n",
      "weighted avg       0.86      0.68      0.73    204277\n",
      "\n"
     ]
    },
    {
     "data": {
      "image/png": "[encoded data removed]",
      "text/plain": [
       "<Figure size 432x288 with 2 Axes>"
      ]
     },
     "metadata": {},
     "output_type": "display_data"
    }
   ],
   "source": [
    "# Labels\n",
    "class_label = ['service', 'default']\n",
    "\n",
    "# Print model evaluation\n",
    "print('Baseline Model Evaluation:')\n",
    "print(classification_report(log_y, y_pred, target_names= class_label))\n",
    "\n",
    "conf_matrix = confusion_matrix(log_y, y_pred)\n",
    "plt.style.use('seaborn-white')\n",
    "disp = ConfusionMatrixDisplay(conf_matrix)\n",
    "disp.plot();"
   ]
  },
  {
   "cell_type": "markdown",
   "id": "d7adff90",
   "metadata": {},
   "source": [
    "**Service**\n",
    "- The model had a 94% precision when predicting whether the person paid back the loan and a recall of 67%. This indicates that the model favours precision over recall.\n",
    "\n",
    "- From the confusion matrix, we see that the model is best at predicting serviced loans than defaulted ones.\n",
    "\n",
    "**Default**\n",
    "- The model had a difficult time predicting defaults, the precision on the defaults is 22%, whereas the recall is 69%, indicating that the model, when it comes to defaults, it chooses recall over precision.\n",
    "\n",
    "#### **Summary**\n",
    "- The model shows signs of class imbalance despite using the `class_weight` parameter. \n",
    "\n",
    "- It also has an accuracy of 68% which is relatively low, meaning that the model is not working as well as we want it to.\n",
    "\n",
    "- Overall, the model favours recall over precision, meaning that the model is trying really hard not to miss any defaulters, even if that means incorrectly flagging some people as defaulters when they actually wouldn’t have defaulted.\n",
    "\n",
    "- This is good because it means that we are able to flag almost every defaulter, but it is also bad as people who do not default may be flagged as defaulters, which may hurt their chances of being grannted loans."
   ]
  },
  {
   "cell_type": "markdown",
   "id": "73ef1b7d",
   "metadata": {},
   "source": [
    "### **Model 2: Applying SMOTE**\n",
    "For the second model, we are applying the class imbalance tool, `Synthetic Minority Over-sampling Technique (SMOTE)`, it works the same as the class_weight, but it goes an extra mile and generates synthetic samples for the minority class.\n",
    "\n",
    "This is important because having an imbalanced class makes the model unreliable."
   ]
  },
  {
   "cell_type": "code",
   "execution_count": 11,
   "id": "442722c5",
   "metadata": {},
   "outputs": [
    {
     "data": {
      "image/png": "[encoded data removed]",
      "text/plain": [
       "<Figure size 1080x432 with 2 Axes>"
      ]
     },
     "metadata": {},
     "output_type": "display_data"
    }
   ],
   "source": [
    "# Apply SMOTE on the training set\n",
    "smote = SMOTE(random_state=42)\n",
    "X_train_resampled, y_train_resampled = smote.fit_resample(log_X, log_y)\n",
    "\n",
    "# Create plot figure\n",
    "fig, (ax1, ax2) = plt.subplots(figsize = (15, 6), ncols= 2)\n",
    "\n",
    "# Plot ax1, before SMOTE\n",
    "sns.countplot(x= log_y, ax= ax1, color= 'teal')\n",
    "plt.title('Before SMOTE')\n",
    "plt.xlabel('Loan Repayment Status')\n",
    "\n",
    "# Plot ax2, after SMOTE\n",
    "sns.countplot(x= y_train_resampled, ax= ax2, color= 'teal')\n",
    "plt.title('After SMOTE')\n",
    "plt.xlabel('Loan Repayment Status')\n",
    "\n",
    "plt.tight_layout()\n",
    "plt.show()"
   ]
  },
  {
   "cell_type": "code",
   "execution_count": 12,
   "id": "b6ee0ab2",
   "metadata": {},
   "outputs": [],
   "source": [
    "# Train and fit the SMOTE model\n",
    "log_reg = LogisticRegression(solver= 'saga', max_iter= 500).fit(X_train_resampled, y_train_resampled)\n",
    "\n",
    "# Predict y\n",
    "y_pred = log_reg.predict(X_train_resampled)"
   ]
  },
  {
   "cell_type": "markdown",
   "id": "e5bb1371",
   "metadata": {},
   "source": [
    "#### *Evaluation*\n",
    "Here we are focusing on recall vs precision, this is because we have applied SMOTE to deal with class imbalance, and by evaluating the model by those two metrics, we'll get to know if the SMOTE has worked."
   ]
  },
  {
   "cell_type": "code",
   "execution_count": 13,
   "id": "a109fc0c",
   "metadata": {},
   "outputs": [
    {
     "name": "stdout",
     "output_type": "stream",
     "text": [
      "Baseline Model Evaluation:\n",
      "              precision    recall  f1-score   support\n",
      "\n",
      "     service       0.70      0.68      0.69    180555\n",
      "     default       0.69      0.70      0.70    180555\n",
      "\n",
      "    accuracy                           0.69    361110\n",
      "   macro avg       0.69      0.69      0.69    361110\n",
      "weighted avg       0.69      0.69      0.69    361110\n",
      "\n"
     ]
    },
    {
     "data": {
      "image/png": "[encoded data removed]",
      "text/plain": [
       "<Figure size 432x288 with 2 Axes>"
      ]
     },
     "metadata": {},
     "output_type": "display_data"
    }
   ],
   "source": [
    "# Print model evaluation\n",
    "print('Baseline Model Evaluation:')\n",
    "print(classification_report(y_train_resampled, y_pred, target_names= class_label))\n",
    "\n",
    "conf_matrix = confusion_matrix(y_train_resampled, y_pred)\n",
    "plt.style.use('seaborn-white')\n",
    "disp = ConfusionMatrixDisplay(conf_matrix)\n",
    "disp.plot();"
   ]
  },
  {
   "cell_type": "markdown",
   "id": "4e0cfd67",
   "metadata": {},
   "source": [
    "**Service**\n",
    "- Compared to the baseline model, the precision on the serviced loans has one down to 70%, from 94%. Recall has gone up, only by 1% to stand at 68%.\n",
    "\n",
    "**Default**\n",
    "- This model has done a better job predicting defaulters than the baseline model. The precision score has gone up to 69% as the recall score has gone up by 1% to stand at 70%.\n",
    "\n",
    "#### **Summary**\n",
    "- This model set to deal with the class imbalance in the target variable, in the baseline model, the model best predicted the non-defaulters, underpredicting the defaulters. However, in this mode, both the defaulters and the non defaulters have been predicted equally.\n",
    "\n",
    "- The confusion matrix above shows that the model equally predicts the 2 classes, the true positives and the negatives are almost equal, whereas the false positives and negatives are also almost equal.\n",
    "\n",
    "- In this model, the precision, accuracy and recall scores are all equal, standing at 69%. This means that the model's performance is evenly balanced between being accurate (precision) and complete (recall), and the F1-score reflects that.\n",
    "\n",
    "- This means that:\n",
    "   - we are getting consistent predictions for that class.\n",
    "\n",
    "   - The model isn't favoring precision over recall (or vice versa).\n",
    "\n",
    "The overall performance is good, compared to the other model performance, however, 69% is still quite low, meaning the model can still be improved."
   ]
  },
  {
   "cell_type": "markdown",
   "id": "2c8c383f",
   "metadata": {},
   "source": [
    "### **Model 3: Hyperparameter Tuning**\n",
    "As we have already dealt with the class imbalance issue, here we are tuning the parameters to push our model to get better accuracy results as well as just work optimally over all.\n",
    "\n",
    "We are setting the `penalty=` parameter to `elasticnet`, to regularize the model as well as choose the best features."
   ]
  },
  {
   "cell_type": "code",
   "execution_count": 14,
   "id": "621403b2",
   "metadata": {},
   "outputs": [],
   "source": [
    "# Prepara data for modeling\n",
    "elasticnet_X = X_train_resampled.copy()\n",
    "elasticnet_y = y_train_resampled.copy()\n",
    "\n",
    "# Train and fit the SMOTE model\n",
    "log_reg = LogisticRegression(penalty= 'elasticnet', l1_ratio= 1, solver= 'saga', max_iter= 500).fit(elasticnet_X, elasticnet_y)\n",
    "\n",
    "# Predict y\n",
    "y_pred = log_reg.predict(elasticnet_X)"
   ]
  },
  {
   "cell_type": "markdown",
   "id": "8c6fc417",
   "metadata": {},
   "source": [
    "#### *Evaluation*"
   ]
  },
  {
   "cell_type": "code",
   "execution_count": 15,
   "id": "1e0e208a",
   "metadata": {},
   "outputs": [
    {
     "name": "stdout",
     "output_type": "stream",
     "text": [
      "Baseline Model Evaluation:\n",
      "              precision    recall  f1-score   support\n",
      "\n",
      "     service       0.70      0.68      0.69    180555\n",
      "     default       0.69      0.70      0.70    180555\n",
      "\n",
      "    accuracy                           0.69    361110\n",
      "   macro avg       0.69      0.69      0.69    361110\n",
      "weighted avg       0.69      0.69      0.69    361110\n",
      "\n"
     ]
    },
    {
     "data": {
      "image/png": "[encoded data removed]",
      "text/plain": [
       "<Figure size 432x288 with 2 Axes>"
      ]
     },
     "metadata": {},
     "output_type": "display_data"
    }
   ],
   "source": [
    "# Print model evaluation\n",
    "print('Baseline Model Evaluation:')\n",
    "print(classification_report(elasticnet_y, y_pred, target_names= class_label))\n",
    "\n",
    "conf_matrix = confusion_matrix(elasticnet_y, y_pred)\n",
    "plt.style.use('seaborn-white')\n",
    "disp = ConfusionMatrixDisplay(conf_matrix)\n",
    "disp.plot();"
   ]
  },
  {
   "cell_type": "markdown",
   "id": "c47b328a",
   "metadata": {},
   "source": [
    "#### **Summary**\n",
    "This model performs the same as the previous model, indicating that there's need for `GridSearchCV()`.\n",
    "\n",
    "### **Model 4: GridSearchCV**\n",
    "Despite solving the class imbalance issues, our model remains unreliable, with our accuracy score standing at 69%. In this section, we are using `GridSearchCV()` to tune our hyperparameters and find parameters that yield maximum scores for our model."
   ]
  },
  {
   "cell_type": "code",
   "execution_count": 16,
   "id": "c440bd1f",
   "metadata": {},
   "outputs": [
    {
     "name": "stdout",
     "output_type": "stream",
     "text": [
      "Fitting 5 folds for each of 10 candidates, totalling 50 fits\n"
     ]
    },
    {
     "name": "stderr",
     "output_type": "stream",
     "text": [
      "[Parallel(n_jobs=-1)]: Using backend LokyBackend with 4 concurrent workers.\n",
      "[Parallel(n_jobs=-1)]: Done  42 tasks      | elapsed:  4.0min\n",
      "[Parallel(n_jobs=-1)]: Done  50 out of  50 | elapsed:  4.8min finished\n"
     ]
    },
    {
     "name": "stdout",
     "output_type": "stream",
     "text": [
      "Best params: {'penalty': 'elasticnet', 'max_iter': 100, 'C': 1}\n"
     ]
    }
   ],
   "source": [
    "# Prepara data for modeling\n",
    "rand_X = X_train_resampled.copy()\n",
    "rand_y = y_train_resampled.copy()\n",
    "\n",
    "# Define model\n",
    "log_reg = LogisticRegression(l1_ratio= 1, solver= 'saga')\n",
    "\n",
    "# Define the hyperparameter grid\n",
    "param_grid = {\n",
    "    'C': [0.01, 0.1, 1, 10],\n",
    "    'max_iter': [100, 500, 1000],\n",
    "    'penalty' : ['elasticnet', 'l2']\n",
    "}\n",
    "\n",
    "# Set up RandomizedSearchCV\n",
    "rand_search = RandomizedSearchCV(estimator=log_reg, param_distributions=param_grid, \n",
    "                           cv=5, scoring='f1_macro', n_jobs=-1, verbose= 1)\n",
    "\n",
    "# Fit to training data\n",
    "rand_search.fit(rand_X, rand_y)\n",
    "\n",
    "# Print best parameters\n",
    "print(\"Best params:\", rand_search.best_params_)"
   ]
  },
  {
   "cell_type": "markdown",
   "id": "2eaa85e3",
   "metadata": {},
   "source": [
    "#### *Evaluation*"
   ]
  },
  {
   "cell_type": "code",
   "execution_count": 17,
   "id": "79521e8d",
   "metadata": {},
   "outputs": [
    {
     "name": "stdout",
     "output_type": "stream",
     "text": [
      "Baseline Model Evaluation:\n",
      "              precision    recall  f1-score   support\n",
      "\n",
      "     service       0.70      0.68      0.69    180555\n",
      "     default       0.69      0.70      0.70    180555\n",
      "\n",
      "    accuracy                           0.69    361110\n",
      "   macro avg       0.69      0.69      0.69    361110\n",
      "weighted avg       0.69      0.69      0.69    361110\n",
      "\n"
     ]
    }
   ],
   "source": [
    "# Predict the train data.\n",
    "y_pred = rand_search.predict(rand_X)\n",
    "\n",
    "# Print model evaluation\n",
    "print('Baseline Model Evaluation:')\n",
    "print(classification_report(rand_y, y_pred, target_names= class_label))"
   ]
  },
  {
   "cell_type": "markdown",
   "id": "9e88f98a",
   "metadata": {},
   "source": [
    "#### **Summary**\n",
    "- RandomizedSearchCV was applied to tune hyperparameters, but no significant gains in F1 or recall were observed.\n",
    "\n",
    "- Despite tuning, Logistic Regression underperformed on recall and overall F1. Given the business goal is to catch as many defaulters as possible, having a higher accuracy score is important, we proceed to try more flexible algorithms such as Decision Trees or Random Forest to help achieve this goal.\n",
    "\n",
    "### **ROC**"
   ]
  },
  {
   "cell_type": "code",
   "execution_count": null,
   "id": "e72bf25b",
   "metadata": {},
   "outputs": [
    {
     "data": {
      "image/png": "[encoded data removed]",
      "text/plain": [
       "<Figure size 576x432 with 1 Axes>"
      ]
     },
     "metadata": {},
     "output_type": "display_data"
    }
   ],
   "source": [
    "# Get predicted probabilities for the positive class\n",
    "y_scores = rand_search.predict_proba(rand_X)[:, 1]\n",
    "\n",
    "# Compute ROC curve and AUC\n",
    "fpr, tpr, thresholds = roc_curve(rand_y, y_scores)\n",
    "roc_auc = roc_auc_score(rand_y, y_scores)\n",
    "\n",
    "# Plot\n",
    "plt.figure(figsize=(8, 6))\n",
    "plt.plot(fpr, tpr, color='darkorange', lw=2, label=f'ROC curve (AUC = {roc_auc:.2f})')\n",
    "plt.plot([0, 1], [0, 1], color='navy', lw=2, linestyle='--')\n",
    "plt.xlabel('False Positive Rate')\n",
    "plt.ylabel('True Positive Rate (Recall)')\n",
    "plt.title('Receiver Operating Characteristic - Logistic Regression')\n",
    "plt.legend(loc='lower right')\n",
    "plt.grid(True)\n",
    "plt.show()"
   ]
  },
  {
   "cell_type": "markdown",
   "id": "484d49f6",
   "metadata": {},
   "source": [
    "#### **ROC Summary**\n",
    "The model has an ROC of 0.76.\n",
    "- 0.76 means the logistic regression model does a decent job distinguishing between defaulters and non-defaulters, especially given the class imbalance.\n",
    "\n",
    "- There’s a 76% chance that the model will assign a higher probability score to a randomly chosen defaulter than to a randomly chosen non-defaulter."
   ]
  }
 ],
 "metadata": {
  "kernelspec": {
   "display_name": "learn-env",
   "language": "python",
   "name": "python3"
  },
  "language_info": {
   "codemirror_mode": {
    "name": "ipython",
    "version": 3
   },
   "file_extension": ".py",
   "mimetype": "text/x-python",
   "name": "python",
   "nbconvert_exporter": "python",
   "pygments_lexer": "ipython3",
   "version": "3.8.5"
  }
 },
 "nbformat": 4,
 "nbformat_minor": 5
}
