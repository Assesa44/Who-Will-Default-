{
 "cells": [
  {
   "cell_type": "markdown",
   "id": "3b2a5eea",
   "metadata": {},
   "source": [
    "# **Business Understanding & Exploratory Data Analysis**\n",
    "## **Business Understanding**\n",
    "### **Background**\n",
    "As the country faces economic woes, the banking sector is especially being hit the hardest as Kenyans default on their loans due to the economic pressure weighing heavily on households and businesses. According to the latest *FinAccess Household Survey*, 16.6% of borrowers defaulted in 2024, up significantly from 10.7% in 2021.\n",
    "\n",
    "A default occurs when a borrower fails to make their loan payments on time or fails to meet some of the provisional conditions of the loan agreement.\n",
    "\n",
    "This increase coincides with a sharp rise in mobile and digital lending, which has made credit more accessible than ever. According to a survey by the credit rating agency, *TransUnion*, the surge in credit access, especially among under-35s, is unmatched by financial literacy, leading many borrowers into avoidable debt cycles, which in turn lead to high default rates.\n",
    "\n",
    "When it comes to commercial banks, the *Central Bank of Kenya* (CBK) reports that the ratio of non-performing loans (NPLs), those unpaid for over 90 days, rose to 17.6 per cent by June 2025, up from 17.4 per cent in April. Also, from a total loan book of Sh4.045 trillion issued by banks as of December 2024, the spike in NPLs suggests that more than Sh712 billion is now at risk of not being recovered.\n",
    "\n",
    "The CBK has linked this surge to job losses, stagnant incomes, and the overall rise in the cost of living, which have made it difficult for borrowers to service their loans. This marks **the highest default level recorded in 20 years** and highlights growing financial stress among borrowers.\n",
    "\n",
    "### **Problem Statement**\n",
    "Both commercial and **especially** digital lenders currently face difficulty in identifying borrowers who are likely to default. Without early warning systems, lenders risk financial losses, and borrowers risk deeper debt cycles. Without robust borrower profiling, digital lenders extend credit without fully assessing risk, a gap that this model seeks to close.\n",
    "\n",
    "### **Project Objectives**\n",
    "This project aims to:\n",
    "- Develop a classification model that predicts loan default risk using data collected during loan applications. \n",
    "\n",
    "- Help lenders, through the model, to make informed, risk-sensitive decisions.\n",
    "\n",
    "- Help borrowers manage their borrowing and avoid getting into debt cycles.\n",
    "\n",
    "### **StakeHolders**\n",
    "This model will benefit mobile loan companies, digital lenders, and financial analysts in Kenya's credit sector.\n",
    "\n",
    "Other stakeholders include:\n",
    "- **Investors**: Individuals or entities that own shares of the company and are interested in its profitability and stock performance. \n",
    "\n",
    "- **Creditors**: Those who have lent money to the company and are concerned with its ability to repay debts and interest. \n",
    "\n",
    "- **Management**: Management is responsible for the company's financial performance and is accountable to stakeholders. \n",
    "\n",
    "- **Borrowers**: The loan applicants.\n",
    "\n",
    "### **Hypotheses**\n",
    "- Applicants with no employment are more likely to default.\n",
    "\n",
    "- Lower monthly income is associated with higher default rates.\n",
    "\n",
    "- Shorter loan terms correlate with increased default risk."
   ]
  },
  {
   "cell_type": "markdown",
   "id": "9ac423c5",
   "metadata": {},
   "source": [
    "## **Data Understanding**\n"
   ]
  }
 ],
 "metadata": {
  "kernelspec": {
   "display_name": "learn-env",
   "language": "python",
   "name": "python3"
  },
  "language_info": {
   "name": "python",
   "version": "3.8.5"
  }
 },
 "nbformat": 4,
 "nbformat_minor": 5
}
