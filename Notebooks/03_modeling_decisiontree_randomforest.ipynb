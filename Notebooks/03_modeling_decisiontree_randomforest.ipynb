{
 "cells": [
  {
   "cell_type": "markdown",
   "id": "7f92c55c",
   "metadata": {},
   "source": [
    "# **Loan Default Prediction**: *Model Training*\n",
    "In the previous notebook, we trained our baseline model using the `LogisticRegression()` algorithm, despite this giving us a good result, it had its limitations, that being:\n",
    "- Despite appying hyperparameter tuning using `RandomizedSearchCV`, the model had the same results.\n",
    "\n",
    "This meant that the model had reached it's limits standing at an equal score of 69% for all the metrics and at 76% ROC-AUC curve.\n",
    "\n",
    "In this notebook, we are going to pick it up from there and use `DecisionTreeClassifier()` and `RandomTreeClassifier()` to boost our model performance. \n",
    "\n",
    "## **Data Preparation**\n",
    "In this step we are importing all the necesarry packages, loading the cleaned data and splitting the data inti training and test datasets."
   ]
  },
  {
   "cell_type": "code",
   "execution_count": 22,
   "id": "67f194fc",
   "metadata": {},
   "outputs": [],
   "source": [
    "# Import important dependencies\n",
    "import pandas as pd\n",
    "import matplotlib.pyplot as plt\n",
    "import seaborn as sns\n",
    "from imblearn.over_sampling import SMOTE\n",
    "from sklearn.model_selection import train_test_split, RandomizedSearchCV, cross_val_score\n",
    "from sklearn.preprocessing import OrdinalEncoder\n",
    "from sklearn.tree import DecisionTreeClassifier\n",
    "from sklearn.ensemble import RandomForestClassifier\n",
    "from imblearn.over_sampling import SMOTE\n",
    "from sklearn.metrics import confusion_matrix, ConfusionMatrixDisplay, classification_report, roc_curve, roc_auc_score, make_scorer, f1_score, precision_recall_curve"
   ]
  },
  {
   "cell_type": "code",
   "execution_count": 2,
   "id": "d50b259f",
   "metadata": {},
   "outputs": [
    {
     "data": {
      "text/html": [
       "<div>\n",
       "<style scoped>\n",
       "    .dataframe tbody tr th:only-of-type {\n",
       "        vertical-align: middle;\n",
       "    }\n",
       "\n",
       "    .dataframe tbody tr th {\n",
       "        vertical-align: top;\n",
       "    }\n",
       "\n",
       "    .dataframe thead th {\n",
       "        text-align: right;\n",
       "    }\n",
       "</style>\n",
       "<table border=\"1\" class=\"dataframe\">\n",
       "  <thead>\n",
       "    <tr style=\"text-align: right;\">\n",
       "      <th></th>\n",
       "      <th>Age</th>\n",
       "      <th>Income</th>\n",
       "      <th>LoanAmount</th>\n",
       "      <th>CreditScore</th>\n",
       "      <th>MonthsEmployed</th>\n",
       "      <th>NumCreditLines</th>\n",
       "      <th>InterestRate</th>\n",
       "      <th>LoanTerm</th>\n",
       "      <th>DTIRatio</th>\n",
       "      <th>Education</th>\n",
       "      <th>EmploymentType</th>\n",
       "      <th>MaritalStatus</th>\n",
       "      <th>HasMortgage</th>\n",
       "      <th>HasDependents</th>\n",
       "      <th>LoanPurpose</th>\n",
       "      <th>HasCoSigner</th>\n",
       "      <th>Default</th>\n",
       "    </tr>\n",
       "  </thead>\n",
       "  <tbody>\n",
       "    <tr>\n",
       "      <th>0</th>\n",
       "      <td>56</td>\n",
       "      <td>85994</td>\n",
       "      <td>50587</td>\n",
       "      <td>520</td>\n",
       "      <td>80</td>\n",
       "      <td>4</td>\n",
       "      <td>15.23</td>\n",
       "      <td>36</td>\n",
       "      <td>0.44</td>\n",
       "      <td>Bachelor's</td>\n",
       "      <td>Full-time</td>\n",
       "      <td>Divorced</td>\n",
       "      <td>Yes</td>\n",
       "      <td>Yes</td>\n",
       "      <td>Other</td>\n",
       "      <td>Yes</td>\n",
       "      <td>0</td>\n",
       "    </tr>\n",
       "    <tr>\n",
       "      <th>1</th>\n",
       "      <td>69</td>\n",
       "      <td>50432</td>\n",
       "      <td>124440</td>\n",
       "      <td>458</td>\n",
       "      <td>15</td>\n",
       "      <td>1</td>\n",
       "      <td>4.81</td>\n",
       "      <td>60</td>\n",
       "      <td>0.68</td>\n",
       "      <td>Master's</td>\n",
       "      <td>Full-time</td>\n",
       "      <td>Married</td>\n",
       "      <td>No</td>\n",
       "      <td>No</td>\n",
       "      <td>Other</td>\n",
       "      <td>Yes</td>\n",
       "      <td>0</td>\n",
       "    </tr>\n",
       "    <tr>\n",
       "      <th>2</th>\n",
       "      <td>46</td>\n",
       "      <td>84208</td>\n",
       "      <td>129188</td>\n",
       "      <td>451</td>\n",
       "      <td>26</td>\n",
       "      <td>3</td>\n",
       "      <td>21.17</td>\n",
       "      <td>24</td>\n",
       "      <td>0.31</td>\n",
       "      <td>Master's</td>\n",
       "      <td>Unemployed</td>\n",
       "      <td>Divorced</td>\n",
       "      <td>Yes</td>\n",
       "      <td>Yes</td>\n",
       "      <td>Auto</td>\n",
       "      <td>No</td>\n",
       "      <td>1</td>\n",
       "    </tr>\n",
       "    <tr>\n",
       "      <th>3</th>\n",
       "      <td>32</td>\n",
       "      <td>31713</td>\n",
       "      <td>44799</td>\n",
       "      <td>743</td>\n",
       "      <td>0</td>\n",
       "      <td>3</td>\n",
       "      <td>7.07</td>\n",
       "      <td>24</td>\n",
       "      <td>0.23</td>\n",
       "      <td>High School</td>\n",
       "      <td>Full-time</td>\n",
       "      <td>Married</td>\n",
       "      <td>No</td>\n",
       "      <td>No</td>\n",
       "      <td>Business</td>\n",
       "      <td>No</td>\n",
       "      <td>0</td>\n",
       "    </tr>\n",
       "    <tr>\n",
       "      <th>4</th>\n",
       "      <td>60</td>\n",
       "      <td>20437</td>\n",
       "      <td>9139</td>\n",
       "      <td>633</td>\n",
       "      <td>8</td>\n",
       "      <td>4</td>\n",
       "      <td>6.51</td>\n",
       "      <td>48</td>\n",
       "      <td>0.73</td>\n",
       "      <td>Bachelor's</td>\n",
       "      <td>Unemployed</td>\n",
       "      <td>Divorced</td>\n",
       "      <td>No</td>\n",
       "      <td>Yes</td>\n",
       "      <td>Auto</td>\n",
       "      <td>No</td>\n",
       "      <td>0</td>\n",
       "    </tr>\n",
       "  </tbody>\n",
       "</table>\n",
       "</div>"
      ],
      "text/plain": [
       "   Age  Income  LoanAmount  CreditScore  MonthsEmployed  NumCreditLines  \\\n",
       "0   56   85994       50587          520              80               4   \n",
       "1   69   50432      124440          458              15               1   \n",
       "2   46   84208      129188          451              26               3   \n",
       "3   32   31713       44799          743               0               3   \n",
       "4   60   20437        9139          633               8               4   \n",
       "\n",
       "   InterestRate  LoanTerm  DTIRatio    Education EmploymentType MaritalStatus  \\\n",
       "0         15.23        36      0.44   Bachelor's      Full-time      Divorced   \n",
       "1          4.81        60      0.68     Master's      Full-time       Married   \n",
       "2         21.17        24      0.31     Master's     Unemployed      Divorced   \n",
       "3          7.07        24      0.23  High School      Full-time       Married   \n",
       "4          6.51        48      0.73   Bachelor's     Unemployed      Divorced   \n",
       "\n",
       "  HasMortgage HasDependents LoanPurpose HasCoSigner  Default  \n",
       "0         Yes           Yes       Other         Yes        0  \n",
       "1          No            No       Other         Yes        0  \n",
       "2         Yes           Yes        Auto          No        1  \n",
       "3          No            No    Business          No        0  \n",
       "4          No           Yes        Auto          No        0  "
      ]
     },
     "execution_count": 2,
     "metadata": {},
     "output_type": "execute_result"
    }
   ],
   "source": [
    "# Load the cleaned data\n",
    "loans_info = pd.read_csv(\"../Data/CleanData/Cleaned_Loans_Data.csv\")\n",
    "\n",
    "# Preview\n",
    "loans_info.head()"
   ]
  },
  {
   "cell_type": "code",
   "execution_count": 3,
   "id": "d5d93f19",
   "metadata": {},
   "outputs": [],
   "source": [
    "# Assign predictors and target variable to their respective variables.\n",
    "X = loans_info.drop(\"Default\", axis=1)\n",
    "y = loans_info[\"Default\"]\n",
    "\n",
    "# Split the data into train and test sets.\n",
    "X_train, X_test, y_train, y_test = train_test_split(X, y, test_size=0.2, random_state=42, stratify=y)"
   ]
  },
  {
   "cell_type": "markdown",
   "id": "692df1e6",
   "metadata": {},
   "source": [
    "## **`DecisionTreeClassifier()`**\n",
    "First, we are using the `DecisionTreeClassifier()` algorithm because:\n",
    "- `DecisionTreeClassifier()` is considered better than `LogisticRegression()` in certain situations due to its ease in interpretation and ability to handle non-linear relationships and outliers. During our EDA, we noticed that the predictors had negative relationship with the target variable.\n",
    "\n",
    "Before we start modeling, we are preprocessing the data, according to the needs of this specific algorithm, that is:\n",
    "- No standardization\n",
    "\n",
    "- Ordinal encoding the xcategorical data.\n",
    "\n",
    "We are also applying the SMOTE for the class imbalance issue. "
   ]
  },
  {
   "cell_type": "code",
   "execution_count": 6,
   "id": "66c08838",
   "metadata": {},
   "outputs": [
    {
     "data": {
      "text/html": [
       "<div>\n",
       "<style scoped>\n",
       "    .dataframe tbody tr th:only-of-type {\n",
       "        vertical-align: middle;\n",
       "    }\n",
       "\n",
       "    .dataframe tbody tr th {\n",
       "        vertical-align: top;\n",
       "    }\n",
       "\n",
       "    .dataframe thead th {\n",
       "        text-align: right;\n",
       "    }\n",
       "</style>\n",
       "<table border=\"1\" class=\"dataframe\">\n",
       "  <thead>\n",
       "    <tr style=\"text-align: right;\">\n",
       "      <th></th>\n",
       "      <th>Age</th>\n",
       "      <th>Income</th>\n",
       "      <th>LoanAmount</th>\n",
       "      <th>CreditScore</th>\n",
       "      <th>MonthsEmployed</th>\n",
       "      <th>NumCreditLines</th>\n",
       "      <th>InterestRate</th>\n",
       "      <th>LoanTerm</th>\n",
       "      <th>DTIRatio</th>\n",
       "      <th>Education</th>\n",
       "      <th>EmploymentType</th>\n",
       "      <th>MaritalStatus</th>\n",
       "      <th>HasMortgage</th>\n",
       "      <th>HasDependents</th>\n",
       "      <th>LoanPurpose</th>\n",
       "      <th>HasCoSigner</th>\n",
       "    </tr>\n",
       "  </thead>\n",
       "  <tbody>\n",
       "    <tr>\n",
       "      <th>15826</th>\n",
       "      <td>45</td>\n",
       "      <td>37039</td>\n",
       "      <td>247916</td>\n",
       "      <td>624</td>\n",
       "      <td>19</td>\n",
       "      <td>2</td>\n",
       "      <td>4.62</td>\n",
       "      <td>60</td>\n",
       "      <td>0.85</td>\n",
       "      <td>1.0</td>\n",
       "      <td>3.0</td>\n",
       "      <td>1.0</td>\n",
       "      <td>0.0</td>\n",
       "      <td>1.0</td>\n",
       "      <td>0.0</td>\n",
       "      <td>0.0</td>\n",
       "    </tr>\n",
       "    <tr>\n",
       "      <th>147371</th>\n",
       "      <td>48</td>\n",
       "      <td>133963</td>\n",
       "      <td>66275</td>\n",
       "      <td>494</td>\n",
       "      <td>119</td>\n",
       "      <td>3</td>\n",
       "      <td>14.72</td>\n",
       "      <td>48</td>\n",
       "      <td>0.49</td>\n",
       "      <td>3.0</td>\n",
       "      <td>2.0</td>\n",
       "      <td>1.0</td>\n",
       "      <td>1.0</td>\n",
       "      <td>1.0</td>\n",
       "      <td>4.0</td>\n",
       "      <td>1.0</td>\n",
       "    </tr>\n",
       "    <tr>\n",
       "      <th>178180</th>\n",
       "      <td>47</td>\n",
       "      <td>100204</td>\n",
       "      <td>6967</td>\n",
       "      <td>718</td>\n",
       "      <td>108</td>\n",
       "      <td>3</td>\n",
       "      <td>5.51</td>\n",
       "      <td>24</td>\n",
       "      <td>0.76</td>\n",
       "      <td>1.0</td>\n",
       "      <td>2.0</td>\n",
       "      <td>2.0</td>\n",
       "      <td>1.0</td>\n",
       "      <td>1.0</td>\n",
       "      <td>1.0</td>\n",
       "      <td>1.0</td>\n",
       "    </tr>\n",
       "    <tr>\n",
       "      <th>126915</th>\n",
       "      <td>42</td>\n",
       "      <td>36078</td>\n",
       "      <td>25966</td>\n",
       "      <td>344</td>\n",
       "      <td>2</td>\n",
       "      <td>3</td>\n",
       "      <td>18.29</td>\n",
       "      <td>36</td>\n",
       "      <td>0.76</td>\n",
       "      <td>0.0</td>\n",
       "      <td>2.0</td>\n",
       "      <td>1.0</td>\n",
       "      <td>0.0</td>\n",
       "      <td>1.0</td>\n",
       "      <td>2.0</td>\n",
       "      <td>0.0</td>\n",
       "    </tr>\n",
       "    <tr>\n",
       "      <th>163930</th>\n",
       "      <td>20</td>\n",
       "      <td>99464</td>\n",
       "      <td>248557</td>\n",
       "      <td>318</td>\n",
       "      <td>74</td>\n",
       "      <td>3</td>\n",
       "      <td>19.45</td>\n",
       "      <td>60</td>\n",
       "      <td>0.45</td>\n",
       "      <td>0.0</td>\n",
       "      <td>1.0</td>\n",
       "      <td>0.0</td>\n",
       "      <td>0.0</td>\n",
       "      <td>0.0</td>\n",
       "      <td>0.0</td>\n",
       "      <td>1.0</td>\n",
       "    </tr>\n",
       "  </tbody>\n",
       "</table>\n",
       "</div>"
      ],
      "text/plain": [
       "        Age  Income  LoanAmount  CreditScore  MonthsEmployed  NumCreditLines  \\\n",
       "15826    45   37039      247916          624              19               2   \n",
       "147371   48  133963       66275          494             119               3   \n",
       "178180   47  100204        6967          718             108               3   \n",
       "126915   42   36078       25966          344               2               3   \n",
       "163930   20   99464      248557          318              74               3   \n",
       "\n",
       "        InterestRate  LoanTerm  DTIRatio  Education  EmploymentType  \\\n",
       "15826           4.62        60      0.85        1.0             3.0   \n",
       "147371         14.72        48      0.49        3.0             2.0   \n",
       "178180          5.51        24      0.76        1.0             2.0   \n",
       "126915         18.29        36      0.76        0.0             2.0   \n",
       "163930         19.45        60      0.45        0.0             1.0   \n",
       "\n",
       "        MaritalStatus  HasMortgage  HasDependents  LoanPurpose  HasCoSigner  \n",
       "15826             1.0          0.0            1.0          0.0          0.0  \n",
       "147371            1.0          1.0            1.0          4.0          1.0  \n",
       "178180            2.0          1.0            1.0          1.0          1.0  \n",
       "126915            1.0          0.0            1.0          2.0          0.0  \n",
       "163930            0.0          0.0            0.0          0.0          1.0  "
      ]
     },
     "execution_count": 6,
     "metadata": {},
     "output_type": "execute_result"
    }
   ],
   "source": [
    "# Copy train data\n",
    "X_dt = X_train.copy()\n",
    "y_dt = y_train.copy()\n",
    "\n",
    "# Identify categorical columns\n",
    "cat_cols = X_train.select_dtypes(include='object').columns\n",
    "\n",
    "# Encode the categorical columns\n",
    "encoder = OrdinalEncoder()\n",
    "X_dt[cat_cols] = encoder.fit_transform(X_dt[cat_cols])\n",
    "\n",
    "X_dt.head()"
   ]
  },
  {
   "cell_type": "code",
   "execution_count": 10,
   "id": "60f04c98",
   "metadata": {},
   "outputs": [
    {
     "data": {
      "image/png": "[encoded data removed]",
      "text/plain": [
       "<Figure size 1080x432 with 2 Axes>"
      ]
     },
     "metadata": {
      "needs_background": "light"
     },
     "output_type": "display_data"
    }
   ],
   "source": [
    "# Apply SMOTE on the training set\n",
    "smote = SMOTE(random_state=42)\n",
    "X_train_resampled, y_train_resampled = smote.fit_resample(X_dt, y_dt)\n",
    "\n",
    "# Create plot figure\n",
    "fig, (ax1, ax2) = plt.subplots(figsize = (15, 6), ncols= 2)\n",
    "\n",
    "# Plot ax1, before SMOTE\n",
    "sns.countplot(x= y_dt, ax= ax1, color= 'teal')\n",
    "plt.title('Before SMOTE')\n",
    "plt.xlabel('Loan Repayment Status')\n",
    "\n",
    "# Plot ax2, after SMOTE\n",
    "sns.countplot(x= y_train_resampled, ax= ax2, color= 'teal')\n",
    "plt.title('After SMOTE')\n",
    "plt.xlabel('Loan Repayment Status')\n",
    "\n",
    "plt.tight_layout()\n",
    "plt.show()"
   ]
  },
  {
   "cell_type": "markdown",
   "id": "3700dc53",
   "metadata": {},
   "source": [
    "### **Model 1: `DecisionTreeClassifier()` baseline model**\n",
    "For our first model, we are setting the random state to 42 and fitting it on our resampled data."
   ]
  },
  {
   "cell_type": "code",
   "execution_count": 11,
   "id": "3a4c7fa3",
   "metadata": {},
   "outputs": [],
   "source": [
    "# Train and fit the SMOTE model\n",
    "dt = DecisionTreeClassifier(random_state=42).fit(X_train_resampled, y_train_resampled)\n",
    "\n",
    "# Predict y\n",
    "y_pred = dt.predict(X_train_resampled)"
   ]
  },
  {
   "cell_type": "markdown",
   "id": "cdf7ddd3",
   "metadata": {},
   "source": [
    "#### *Evaluation*"
   ]
  },
  {
   "cell_type": "code",
   "execution_count": 12,
   "id": "9c98f14d",
   "metadata": {},
   "outputs": [
    {
     "name": "stdout",
     "output_type": "stream",
     "text": [
      "Baseline Model Evaluation:\n",
      "              precision    recall  f1-score   support\n",
      "\n",
      "     service       1.00      1.00      1.00    180555\n",
      "     default       1.00      1.00      1.00    180555\n",
      "\n",
      "    accuracy                           1.00    361110\n",
      "   macro avg       1.00      1.00      1.00    361110\n",
      "weighted avg       1.00      1.00      1.00    361110\n",
      "\n"
     ]
    },
    {
     "data": {
      "image/png": "[encoded data removed]",
      "text/plain": [
       "<Figure size 432x288 with 2 Axes>"
      ]
     },
     "metadata": {},
     "output_type": "display_data"
    }
   ],
   "source": [
    "# Labels\n",
    "class_label = ['service', 'default']\n",
    "\n",
    "# Print model evaluation\n",
    "print('Baseline Model Evaluation:')\n",
    "print(classification_report(y_train_resampled, y_pred, target_names= class_label))\n",
    "\n",
    "conf_matrix = confusion_matrix(y_train_resampled, y_pred)\n",
    "plt.style.use('seaborn-white')\n",
    "disp = ConfusionMatrixDisplay(conf_matrix)\n",
    "disp.plot();"
   ]
  },
  {
   "cell_type": "markdown",
   "id": "1a6bf088",
   "metadata": {},
   "source": [
    "#### **Summary**\n",
    "Our baseline model has an accuracy score of 100%, which is a clear indication of overfitting. This happened because Decision Trees are not regularized by default, therefore they split every branch till they memorize the whole dataset.\n",
    "\n",
    "### **Model 2: Adding parameters**\n",
    "In this model, we are adding some parameters to help boost it's performance. We are using:\n",
    "- `max_depth`: to limit how deep the tree goes.\n",
    "\n",
    "- `criterion` : to measure the quality of the split."
   ]
  },
  {
   "cell_type": "code",
   "execution_count": 13,
   "id": "109ee1da",
   "metadata": {},
   "outputs": [],
   "source": [
    "# Prepara data for training\n",
    "X_dtree = X_train_resampled.copy()\n",
    "y_dtree = y_train_resampled.copy()\n",
    "\n",
    "# Train and fit the 'added parameters' model\n",
    "dt = DecisionTreeClassifier(criterion= 'entropy', max_depth= 5, random_state= 42).fit(X_dtree, y_dtree)\n",
    "\n",
    "# Predict y\n",
    "y_pred = dt.predict(X_dtree)"
   ]
  },
  {
   "cell_type": "markdown",
   "id": "cf8d1db9",
   "metadata": {},
   "source": [
    "#### *Evaluation*"
   ]
  },
  {
   "cell_type": "code",
   "execution_count": 14,
   "id": "ca14b420",
   "metadata": {},
   "outputs": [
    {
     "name": "stdout",
     "output_type": "stream",
     "text": [
      "Baseline Model Evaluation:\n",
      "              precision    recall  f1-score   support\n",
      "\n",
      "     service       0.73      1.00      0.85    180555\n",
      "     default       1.00      0.64      0.78    180555\n",
      "\n",
      "    accuracy                           0.82    361110\n",
      "   macro avg       0.87      0.82      0.81    361110\n",
      "weighted avg       0.87      0.82      0.81    361110\n",
      "\n"
     ]
    },
    {
     "data": {
      "image/png": "[encoded data removed]",
      "text/plain": [
       "<Figure size 432x288 with 2 Axes>"
      ]
     },
     "metadata": {},
     "output_type": "display_data"
    }
   ],
   "source": [
    "# Print model evaluation\n",
    "print('Baseline Model Evaluation:')\n",
    "print(classification_report(y_dtree, y_pred, target_names= class_label))\n",
    "\n",
    "conf_matrix = confusion_matrix(y_dtree, y_pred)\n",
    "plt.style.use('seaborn-white')\n",
    "disp = ConfusionMatrixDisplay(conf_matrix)\n",
    "disp.plot();"
   ]
  },
  {
   "cell_type": "markdown",
   "id": "22638471",
   "metadata": {},
   "source": [
    "**Service**\n",
    "- When it comes to the non_defaulters, the model favors recall over precision. Serviced loans has a precision score of 73% and a recall score of 100%.\n",
    "\n",
    "- It also has an F1-score of 85%, indicating that the model is actually performing well when it come sto predicting the serviced loans.\n",
    "\n",
    "**Default**\n",
    "- The model favours precision over recall when it comes to predicting defaulters. It has a precision score of 100% and a recall score of 64%.\n",
    "\n",
    "- This means that the model predicts defaulters correctly, but it’s only finding 64% of actual defaulters, the rest are slipping through.\n",
    "\n",
    "#### **Summary**\n",
    "- Overall, the model performs very well with an accuracy score of 82% and an F1-score of 81%. \n",
    "\n",
    "- The model best predicts the non-defaulters, with 100% precision. The confusion matrix indicates that the models identifies all the non-defaulters correctly.\n",
    "\n",
    "- However, its not as successful when it comes to predicting defaulters, the model predicts over 60,000 defaulters as non-defaulters, which is a huge problem.\n",
    "\n",
    "- The model is playing it safe, avoiding false positives by missing actual defaulters, which is not ideal for a loan product.\n",
    "\n",
    "- Also, despite the great overall performance, the high performance might indicate overfitting and we have a huge number of defaulters identified as non-defaulters.\n",
    "\n",
    "#### **CrossValidation**\n",
    "This is to make sure the model is not overfitting."
   ]
  },
  {
   "cell_type": "code",
   "execution_count": 17,
   "id": "753ec2d3",
   "metadata": {},
   "outputs": [
    {
     "name": "stdout",
     "output_type": "stream",
     "text": [
      "Cross-validated F1 scores: [0.57140019 0.86338544 0.8656345  0.86267242 0.86394076]\n",
      "Average F1: 0.8054066627565624\n"
     ]
    }
   ],
   "source": [
    "f1 = make_scorer(f1_score, average='weighted')\n",
    "f1_scores = cross_val_score(dt, X_dtree, y_dtree, cv=5, scoring=f1)\n",
    "print(\"Cross-validated F1 scores:\", f1_scores)\n",
    "print(\"Average F1:\", f1_scores.mean())"
   ]
  },
  {
   "cell_type": "markdown",
   "id": "febf10c1",
   "metadata": {},
   "source": [
    "- Standing at a high average of 0.805, this means the model generalizes well. However, one fold (Fold 1) did significantly worse, having an f1-score of 0.57.\n",
    "\n",
    "- This means that the fold might have had fewer default cases (imbalanced split), or it might’ve been particularly noisy, or that the model might not generalize equally across all segments.\n",
    "\n",
    "- With this in mind, we still have some room to improve generalization or handling of rare default cases.  To do this we are going to use staratified cross validation the next time we use it.\n",
    "\n",
    "### **Model 3: Precision-Recall Curve**\n",
    "In the previous model, we found that the model was actually missing actual defaulters, which is not ideal for our project. In this section we are trying to find the spot that ensures the model doesn't miss defaulters using precison-recall curve."
   ]
  },
  {
   "cell_type": "code",
   "execution_count": null,
   "id": "f45172e1",
   "metadata": {},
   "outputs": [
    {
     "data": {
      "image/png": "[encoded data removed]",
      "text/plain": [
       "<Figure size 432x288 with 1 Axes>"
      ]
     },
     "metadata": {},
     "output_type": "display_data"
    }
   ],
   "source": [
    "# \n",
    "y_proba = dt.predict_proba(X_dtree)[:, 1]\n",
    "\n",
    "# \n",
    "precision, recall, thresholds = precision_recall_curve(y_dtree, y_proba)\n",
    "\n",
    "# Plotting the curve\n",
    "plt.plot(thresholds, precision[:-1], label=\"Precision\")\n",
    "plt.plot(thresholds, recall[:-1], label=\"Recall\")\n",
    "plt.xlabel(\"Threshold\")\n",
    "plt.legend()\n",
    "plt.title(\"Precision vs Recall\")\n",
    "plt.grid(True)\n",
    "plt.show()"
   ]
  },
  {
   "cell_type": "markdown",
   "id": "48c504ff",
   "metadata": {},
   "source": [
    "#### **Key Observations**\n",
    "1. Recall is high when the threshold is low:\n",
    "\n",
    "- We are identifying nearly all defaulters (high recall), but our precision tanks because we’re also flagging a lot of non-defaulters.\n",
    "\n",
    "2. Precision increases as threshold increases:\n",
    "\n",
    "- This is because we're becoming more conservative, only flagging as \"default\" when we're really sure,  but then we're missing many actual defaulters (low recall).\n",
    "\n",
    "3. The plot indicates that the Crossover Point (around 0.38–0.40) is the sweet spot:\n",
    "\n",
    "- Both precision and recall are around 75–80%. Making it our best trade-off:\n",
    "\n",
    "In the next cell we are using the threshold of 0.39 to see how it works."
   ]
  },
  {
   "cell_type": "code",
   "execution_count": null,
   "id": "83c820b0",
   "metadata": {},
   "outputs": [
    {
     "name": "stdout",
     "output_type": "stream",
     "text": [
      "              precision    recall  f1-score   support\n",
      "\n",
      "           0       0.77      0.84      0.80    180555\n",
      "           1       0.83      0.74      0.78    180555\n",
      "\n",
      "    accuracy                           0.79    361110\n",
      "   macro avg       0.80      0.79      0.79    361110\n",
      "weighted avg       0.80      0.79      0.79    361110\n",
      "\n"
     ]
    }
   ],
   "source": [
    "# Set threshold\n",
    "threshold = 0.39\n",
    "y_pred_thresh = (y_proba >= threshold).astype(int)\n",
    "\n",
    "# Print evaluation metrics\n",
    "print(classification_report(y_dtree, y_pred_thresh))"
   ]
  },
  {
   "cell_type": "markdown",
   "id": "324903ec",
   "metadata": {},
   "source": [
    "#### **Summary**\n",
    "The threshold has balanced the false positives and negatives in both non defaulters and defaulters. But has dropped the accuracy score to 79%, which was expected.\n",
    "\n",
    "### **Model 4: Hyperparameter Tuning using RandomizedSearchCV**"
   ]
  }
 ],
 "metadata": {
  "kernelspec": {
   "display_name": "learn-env",
   "language": "python",
   "name": "python3"
  },
  "language_info": {
   "codemirror_mode": {
    "name": "ipython",
    "version": 3
   },
   "file_extension": ".py",
   "mimetype": "text/x-python",
   "name": "python",
   "nbconvert_exporter": "python",
   "pygments_lexer": "ipython3",
   "version": "3.8.5"
  }
 },
 "nbformat": 4,
 "nbformat_minor": 5
}
